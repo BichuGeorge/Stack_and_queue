{
 "cells": [
  {
   "cell_type": "raw",
   "metadata": {},
   "source": [
    "Problem 1:\n",
    "\n",
    "Alice is rearranging her library. She takes the innermost shelf and reverses the order of books. If you want to automate this process, which data structure would you prefer to do this and why? "
   ]
  },
  {
   "cell_type": "raw",
   "metadata": {},
   "source": [
    "1. I prefer to use stack data structure because by default stack will reverse whatever is input. I have Last In First Out property. String reversal is a main application of stack.\n"
   ]
  },
  {
   "cell_type": "raw",
   "metadata": {},
   "source": [
    "Problem 2:\n",
    "\n",
    "There are two persons A and B. Both are maintaining two book shelves. A takes the first book (the book he kept for the first time in the shelf) from the shelf and reads it. B prefers to take the last book and reads. After reading a book, both A and B keep the book in a separate shelf. Write a Python program to implement this process. Identify the data structures and define the operations accordingly."
   ]
  },
  {
   "cell_type": "raw",
   "metadata": {},
   "source": [
    "A uses Queue to store books as he needs to take the first book he kept. B uses stack because B prefers to take the last book stored. After reading both A and B stores books in a list."
   ]
  },
  {
   "cell_type": "code",
   "execution_count": 3,
   "metadata": {},
   "outputs": [],
   "source": [
    "# To store A's books.\n",
    "class Queue:                                               \n",
    "    def __init__(self, N_A):\n",
    "        self.queue = []\n",
    "        self.front = self.rear = 0\n",
    "        self.capacity = N_A\n",
    "    \n",
    "    # To add books to the shelf.\n",
    "    def queueEnqueue(self, data):\n",
    "        if(self.capacity == self.rear):\n",
    "            print(\"\\nQueue is full\")\n",
    "        else:\n",
    "            self.queue.append(data)\n",
    "            self.rear += 1\n",
    "    \n",
    "    \n",
    "    # To take out the books.\n",
    "    def queueDequeue(self):\n",
    "        if(self.front == self.rear):\n",
    "            print(\"Queue is empty\")\n",
    "        else:\n",
    "            x = self.queue.pop(0)\n",
    "            self.rear -= 1\n",
    "            print(x, \"has been removed from the queue\\n\")\n",
    "            return x\n",
    "    \n",
    "    # To display the books.\n",
    "    def queueDisplay(self):\n",
    "        if(self.front == self.rear):\n",
    "            print(\"\\nQueue is Empty\")\n",
    "        \n",
    "        for i in self.queue:\n",
    "            print(i, \"<--\", end = '')\n",
    "            \n",
    "   \n",
    " # To store B's books.\n",
    "class Stack:\n",
    "    \n",
    "    def __init__(self,n):\n",
    "        self.stack = list()\n",
    "        self.MAXSIZE = n\n",
    "        self.TOP = 0\n",
    "    \n",
    "    def isEmpty(self):\n",
    "        if self.TOP == 0:\n",
    "            return True\n",
    "        else:\n",
    "            return False\n",
    "    \n",
    "    # To add books\n",
    "    def push(self, data):\n",
    "        if self.TOP == self.MAXSIZE:\n",
    "            print(\"Stack Full! Can not add any more elements\\n\")\n",
    "        else:\n",
    "            self.stack.append(data)\n",
    "            self.TOP += 1\n",
    "            \n",
    "    \n",
    "    # To remove books\n",
    "    def pop(self):\n",
    "        if self.isEmpty():\n",
    "            print(\"Stack Empty!\\n\")\n",
    "        else:\n",
    "            item = self.stack[self.TOP-1]\n",
    "            self.TOP -= 1\n",
    "            self.stack.pop()\n",
    "            print(item, \"has been removed from the stack\\n\")\n",
    "            return item\n",
    "    \n",
    "    # To display the books.\n",
    "    \n",
    "    def printStack(self):\n",
    "        \n",
    "        for i in range(self.TOP):\n",
    "            print(self.stack[i], end =\" \")\n",
    "        print()\n",
    "        "
   ]
  },
  {
   "cell_type": "code",
   "execution_count": 5,
   "metadata": {},
   "outputs": [
    {
     "name": "stdout",
     "output_type": "stream",
     "text": [
      "Enter the number of books of A: 4\n",
      "insert the bookA1\n",
      "insert the bookA2\n",
      "insert the bookA3\n",
      "insert the bookA4\n",
      "A1 <--A2 <--A3 <--A4 <--\n",
      "A1 has been removed from the queue\n",
      "\n",
      "A2 has been removed from the queue\n",
      "\n",
      "A3 has been removed from the queue\n",
      "\n",
      "A4 has been removed from the queue\n",
      "\n",
      "\n",
      "['A1', 'A2', 'A3', 'A4']\n",
      "Enter the number of books of B: 4\n",
      "insert the bookB1\n",
      "insert the bookB2\n",
      "insert the bookB3\n",
      "insert the bookB4\n",
      "B1 B2 B3 B4 \n",
      "B4 has been removed from the stack\n",
      "\n",
      "B3 has been removed from the stack\n",
      "\n",
      "B2 has been removed from the stack\n",
      "\n",
      "B1 has been removed from the stack\n",
      "\n",
      "\n",
      "['A1', 'A2', 'A3', 'A4', 'B4', 'B3', 'B2', 'B1']\n"
     ]
    }
   ],
   "source": [
    "if __name__=='__main__':\n",
    "    N_A = int(input(\"Enter the number of books of A: \"))\n",
    "    q = Queue(N_A)\n",
    "    for i in range(N_A):                          # Adding books to A's Shelf\n",
    "        Book_A = input(\"insert the book\")\n",
    "        q.queueEnqueue(Book_A)\n",
    "    q.queueDisplay()\n",
    "    list_ = []                                    # After reading books will go here.\n",
    "    print()\n",
    "    for i in range(N_A):\n",
    "        r_A=q.queueDequeue()                      # removing books to read.\n",
    "        list_.append(r_A)\n",
    "    print()\n",
    "    print(list_)\n",
    "    N_B = int(input(\"Enter the number of books of B: \"))\n",
    "    s = Stack(N_B)\n",
    "    for i in range(N_B):                          # Adding books to B's Shelf\n",
    "        Book_B = input(\"insert the book\")\n",
    "        s.push(Book_B)\n",
    "    s.printStack()\n",
    "    \n",
    "    for i in range(N_B):                          # removing books to read.\n",
    "        r_B=s.pop()\n",
    "        list_.append(r_B)\n",
    "    print()\n",
    "    print(list_)                                  # Prints the list of books after reading them."
   ]
  }
 ],
 "metadata": {
  "kernelspec": {
   "display_name": "Python 3 (ipykernel)",
   "language": "python",
   "name": "python3"
  },
  "language_info": {
   "codemirror_mode": {
    "name": "ipython",
    "version": 3
   },
   "file_extension": ".py",
   "mimetype": "text/x-python",
   "name": "python",
   "nbconvert_exporter": "python",
   "pygments_lexer": "ipython3",
   "version": "3.9.7"
  }
 },
 "nbformat": 4,
 "nbformat_minor": 4
}
